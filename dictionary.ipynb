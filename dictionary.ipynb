{
 "cells": [
  {
   "cell_type": "code",
   "execution_count": 4,
   "id": "cb44d58c",
   "metadata": {},
   "outputs": [],
   "source": [
    "Louvre = {1 : \"moyen  age\" , 2 : \"Egyptian Art\"}"
   ]
  },
  {
   "cell_type": "code",
   "execution_count": 6,
   "id": "a9b0cadd",
   "metadata": {},
   "outputs": [
    {
     "name": "stdout",
     "output_type": "stream",
     "text": [
      "{1: 'moyen  age', 2: 'Egyptian Art'}\n"
     ]
    }
   ],
   "source": [
    "Louvre \n",
    "\n",
    "print(Louvre)"
   ]
  },
  {
   "cell_type": "code",
   "execution_count": 10,
   "id": "51e2f7df",
   "metadata": {},
   "outputs": [],
   "source": [
    "Orsay = {\"3F\" : \"impressionnisme\" , \"5F\" : \"rococo\" }"
   ]
  },
  {
   "cell_type": "code",
   "execution_count": 12,
   "id": "775bc920",
   "metadata": {},
   "outputs": [
    {
     "name": "stdout",
     "output_type": "stream",
     "text": [
      "{'3F': 'impressionnisme', '5F': 'rococo'}\n"
     ]
    }
   ],
   "source": [
    "print (Orsay)\n"
   ]
  },
  {
   "cell_type": "code",
   "execution_count": 13,
   "id": "6666c166",
   "metadata": {},
   "outputs": [
    {
     "name": "stdout",
     "output_type": "stream",
     "text": [
      "5F\n"
     ]
    }
   ],
   "source": [
    "print (\"5F\")"
   ]
  },
  {
   "cell_type": "code",
   "execution_count": 14,
   "id": "ea6e778e",
   "metadata": {},
   "outputs": [],
   "source": [
    "cart = ['apple', 'banana', 'carrot']"
   ]
  },
  {
   "cell_type": "code",
   "execution_count": 17,
   "id": "069de928",
   "metadata": {},
   "outputs": [
    {
     "data": {
      "text/plain": [
       "'banana'"
      ]
     },
     "execution_count": 17,
     "metadata": {},
     "output_type": "execute_result"
    }
   ],
   "source": [
    "cart[1]\n"
   ]
  },
  {
   "cell_type": "code",
   "execution_count": 19,
   "id": "3b907fc0",
   "metadata": {},
   "outputs": [
    {
     "data": {
      "text/plain": [
       "'rococo'"
      ]
     },
     "execution_count": 19,
     "metadata": {},
     "output_type": "execute_result"
    }
   ],
   "source": [
    "Orsay [\"5F\"]"
   ]
  },
  {
   "cell_type": "code",
   "execution_count": 20,
   "id": "80a5a25b",
   "metadata": {},
   "outputs": [
    {
     "data": {
      "text/plain": [
       "{'3F': 'impressionnisme', '5F': 'rococo'}"
      ]
     },
     "execution_count": 20,
     "metadata": {},
     "output_type": "execute_result"
    }
   ],
   "source": [
    "Orsay"
   ]
  },
  {
   "cell_type": "code",
   "execution_count": 29,
   "id": "e37b4333",
   "metadata": {},
   "outputs": [],
   "source": [
    "Orsay [\"5F\"] = \"pointillisme\""
   ]
  },
  {
   "cell_type": "code",
   "execution_count": 31,
   "id": "07e6f887",
   "metadata": {},
   "outputs": [
    {
     "name": "stdout",
     "output_type": "stream",
     "text": [
      "{'3F': 'impressionnisme', '5F': 'pointillisme'}\n"
     ]
    }
   ],
   "source": [
    "print(Orsay)"
   ]
  },
  {
   "cell_type": "code",
   "execution_count": 23,
   "id": "c11f0889",
   "metadata": {},
   "outputs": [],
   "source": [
    "a = 10"
   ]
  },
  {
   "cell_type": "code",
   "execution_count": 24,
   "id": "08a52499",
   "metadata": {},
   "outputs": [
    {
     "data": {
      "text/plain": [
       "10"
      ]
     },
     "execution_count": 24,
     "metadata": {},
     "output_type": "execute_result"
    }
   ],
   "source": [
    "a"
   ]
  },
  {
   "cell_type": "code",
   "execution_count": 28,
   "id": "9abd34c0",
   "metadata": {},
   "outputs": [],
   "source": [
    "# a를 10 대신 \"A\"로 바꾸려면?\n",
    "\n",
    "a=\"A\""
   ]
  },
  {
   "cell_type": "code",
   "execution_count": 27,
   "id": "f383d339",
   "metadata": {},
   "outputs": [
    {
     "name": "stdout",
     "output_type": "stream",
     "text": [
      "A\n"
     ]
    }
   ],
   "source": [
    "print (a)"
   ]
  },
  {
   "cell_type": "code",
   "execution_count": null,
   "id": "70e19644",
   "metadata": {},
   "outputs": [],
   "source": []
  }
 ],
 "metadata": {
  "kernelspec": {
   "display_name": ".venv",
   "language": "python",
   "name": "python3"
  },
  "language_info": {
   "codemirror_mode": {
    "name": "ipython",
    "version": 3
   },
   "file_extension": ".py",
   "mimetype": "text/x-python",
   "name": "python",
   "nbconvert_exporter": "python",
   "pygments_lexer": "ipython3",
   "version": "3.12.3"
  }
 },
 "nbformat": 4,
 "nbformat_minor": 5
}
